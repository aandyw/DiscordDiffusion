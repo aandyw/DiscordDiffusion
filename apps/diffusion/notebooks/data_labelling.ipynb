{
 "cells": [
  {
   "cell_type": "code",
   "execution_count": 1,
   "metadata": {},
   "outputs": [],
   "source": [
    "from dotenv import load_dotenv\n",
    "import os\n",
    "import base64\n",
    "import requests\n",
    "\n",
    "# Load environment variables from the .env file\n",
    "load_dotenv()\n",
    "API_KEY = os.getenv('OPENAI_API_KEY')"
   ]
  },
  {
   "cell_type": "code",
   "execution_count": 2,
   "metadata": {},
   "outputs": [],
   "source": [
    "SYSTEM_PROMPT = \"You are an AI Assistant that provides image labelling services. You are able to provide detailed, concise, and accurate descriptions of the sticker images that you see. Your response should be only in the format of descriptions separated by commas.\\n\\nFor example:\\n\\\"A Posting, dynamic style, Animals, robots, dance music, complete picture, cyberpunk style, futuristic technology stickers, simple pattern, Highlighting the background.\\\"\"\n",
    "\n",
    "IMAGE_DIR = os.path.join(os.getcwd(), \"../dataset/\")"
   ]
  },
  {
   "cell_type": "code",
   "execution_count": 21,
   "metadata": {},
   "outputs": [
    {
     "name": "stderr",
     "output_type": "stream",
     "text": [
      "100%|██████████| 56/56 [02:36<00:00,  2.80s/it]\n"
     ]
    }
   ],
   "source": [
    "from tqdm import tqdm\n",
    "import time\n",
    "\n",
    "# Function to encode the image\n",
    "def encode_image(image_path):\n",
    "  with open(image_path, \"rb\") as image_file:\n",
    "    return base64.b64encode(image_file.read()).decode('utf-8')\n",
    "\n",
    "def label_image(image_path):\n",
    "  # Getting the base64 string\n",
    "  base64_image = encode_image(image_path)\n",
    "\n",
    "  headers = {\n",
    "    \"Content-Type\": \"application/json\",\n",
    "    \"Authorization\": f\"Bearer {API_KEY}\"\n",
    "  }\n",
    "\n",
    "  payload = {\n",
    "    \"model\": \"gpt-4o\",\n",
    "    \"messages\": [\n",
    "      {\n",
    "        \"role\": \"user\",\n",
    "        \"content\": [\n",
    "          {\n",
    "            \"type\": \"text\",\n",
    "            \"text\": SYSTEM_PROMPT\n",
    "          },\n",
    "          {\n",
    "            \"type\": \"image_url\",\n",
    "            \"image_url\": {\n",
    "              \"url\": f\"data:image/png;base64,{base64_image}\",\n",
    "              \"detail\": \"high\"\n",
    "            }\n",
    "          }\n",
    "        ]\n",
    "      }\n",
    "    ],\n",
    "    \"max_tokens\": 300\n",
    "  }\n",
    "\n",
    "  response = requests.post(\"https://api.openai.com/v1/chat/completions\",headers=headers, json=payload)\n",
    "  return response.json()\n",
    "\n",
    "labels = {}\n",
    "max_retries = 5\n",
    "for filename in tqdm(os.listdir(IMAGE_DIR)): # only 54 images\n",
    "  file_path = os.path.join(IMAGE_DIR, filename)\n",
    "  \n",
    "  if os.path.isfile(file_path) and file_path.lower().endswith(('.png', '.jpg', '.jpeg')):\n",
    "\n",
    "    # retry up to 5 times\n",
    "    for attempt in range(1, max_retries + 1):\n",
    "        try:\n",
    "            response = label_image(file_path)\n",
    "            label = response[\"choices\"][0][\"message\"][\"content\"]\n",
    "            labels[filename] = label\n",
    "            break  # If operation succeeds, exit the loop\n",
    "        except Exception as e:\n",
    "            print(f\"Attempt {attempt} failed for image '{filename}' : {e}\")\n",
    "            if attempt < max_retries:\n",
    "                print(\"Retrying...\")\n",
    "                time.sleep(1)\n",
    "            else:\n",
    "                print(\"All retry attempts failed\")"
   ]
  },
  {
   "cell_type": "code",
   "execution_count": 24,
   "metadata": {},
   "outputs": [
    {
     "data": {
      "text/plain": [
       "{'002.png': '\"Smiling, blonde hair, short hair, red lipstick, white dress, glamorous, classic Hollywood, caricature, hands on hip, eyes closed\"',\n",
       " '016.png': '\"Cartoon style, man with long blonde hair, red and black striped shirt, smiling face, arms outstretched, friendly gesture, detailed facial features\"',\n",
       " '017.png': '\"Profile view, female character, cartoon style, wearing blue hat, wearing blue dress, angry expression, arms crossed, jewelry, earrings, necklace\"',\n",
       " '003.png': '\"Person, suit and tie, bearded, thumbs up gesture, historical figure, formal attire, realistic style, sticker, approval gesture\"',\n",
       " '029.png': '\"A pointing pose, cartoon style, male figure, formal attire, suit and tie, expressive facial features, three-quarter view, character illustration, solid background.\"',\n",
       " '015.png': '\"Cartoon style, elderly man, white beard, serious expression, wearing a suit, holding a cigar, detailed facial features, vintage clothing style, sticker, white outline.\"',\n",
       " '001.png': '\"Cartoon style, portrait, man with glasses, gray hair, smiling, wearing a turtleneck, holding a phone, tech-themed, confident expression, modern design.\"',\n",
       " '014.png': '\"Caricature, elderly man, white hair, mustache, brown suit, green tie, smiling, gesturing with hands, famous scientist, cartoon style, sticker, white background.\"',\n",
       " '028.png': '\"Shocked expression, cartoon style, male character, purple suit, hands on cheeks, wide eyes, open mouth, detailed shading.\"',\n",
       " '010.png': '\"Elderly man, bald head, round glasses, mustache, wearing white robe, clapping hands, smiling face, cartoon style, sticker design.\"',\n",
       " '004.png': '\"Historical figure, cartoon style, curly hair, green coat, white cravat, holding an apple, expressive face, pointing finger, educational.\"',\n",
       " '038.png': '\"Person resting chin on hand, thoughtful expression, brown hair in a bun, dressed in a historical outfit, books stacked with titles \\'Huh,\\' \\'What,\\' and \\'A Story,\\' contemplative, illustrated style, detailed caricature.\"',\n",
       " '039.png': '\"Character illustration, middle-aged man, gray hair, beard, smiling, black t-shirt, hand gesture, cartoon style\"',\n",
       " '005.png': '\"Smiling man, waving hand, blue suit, orange tie, short brown hair, cartoon style, sticker image, outlined in white and black.\"',\n",
       " '011.png': '\"Historical figure, holding money, determined expression, animated style, detailed facial features, green attire, white background, sticker format, traditional clothing.\"',\n",
       " '007.png': '\"Caricature, historical figure, military uniform, stern expression, navy blue and white attire, gold epaulettes, medal on chest.\"',\n",
       " '013.png': '\"Black bowler hat, Moustache, Sad expression, Classic suit, Monochrome colors, Vintage style, Silent film era, Iconic character.\"',\n",
       " '012.png': '\"Caricature style, person, blonde hair, crown, elegant dress, jewelry, smiling expression, detailed illustration, formal attire, cartoonish sticker.\"',\n",
       " '006.png': '\"Person, caricature style, blue pinstripe suit, red tie, pointing gesture, mustache, formal attire, exaggerated features, stickers, expressive pose.\"',\n",
       " '049.png': '\"Elderly man, surprised expression, hands raised, glowing halo, white hair, purple clothing, sticker\"',\n",
       " '048.png': '\"Man with grey hair, realistic illustration, holding a paintbrush, wearing a red shirt, crossed arms, drawing a mermaid, art concept, sticker.\"',\n",
       " '040.png': '\"Curious expression, thinking pose, holding glasses, formal suit, striped pattern, cartoon style, male character, detailed illustration\"',\n",
       " '054.png': '\"Bald man, sideburns, formal attire, gourmet, satisfied expression, hand gesture, green vest, bow tie, covered dish, cartoon style.\"',\n",
       " '041.png': '\"Human figure, happy expression, holding a cup, dreadlocks, colorful clothing, cartoon style, sticker image.\"',\n",
       " '043.png': '\"Cartoon style, elderly man, wearing a brown suit, raised fist, holding a pipe, smiling, white hair, blue eyes, outlined sticker.\"',\n",
       " '042.png': '\"Cartoon style, famous historical figure, expressive gesture, glowing eyes, laurel wreath, red and white attire, intense expression, hands raised, sticker illustration.\"',\n",
       " '052.png': '\"Male portrait, glasses, mustache, formal attire, suit and tie, cosmic design, night sky pattern, crescent moon, speech bubble, purple tone, vintage style.\"',\n",
       " '046.png': '\"Historical figure, pointing gesture, serious expression, holding a golden lion mask, ancient robes, detailed illustration, sticker style, clean background.\"',\n",
       " '047.png': '\"Man tipping hat, vintage style, brown trench coat, brown hat, blue bow tie, serious expression, outlined sticker, formal attire, classic look, detailed illustration\"',\n",
       " '053.png': '\"Historical figure, renaissance style, elderly man, thoughtful pose, red robe and hat, long white hair, stylized art, sparkles, detailed illustration, expressive face, sticker design, distinguished appearance.\"',\n",
       " '045.png': '\"Confident expression, older man with mustache, formal attire, raised fist, determined pose, cartoon style, character sticker, detailed illustration, white background, trimmed edges.\"',\n",
       " '051.png': '\"Philosopher, bathtub, contemplative expression, ancient Greek, gray hair and beard, relaxed pose, historical theme, cartoon style, detailed design.\"',\n",
       " '050.png': 'Female character, exaggerated expression, thoughtful pose, brown hair in a ponytail, red lipstick, wearing a red and brown outfit, holding a blue cloth, cartoon style, outlined sticker, isolated on white background.',\n",
       " '044.png': '\"Caricature style, old man, serious expression, gray curly hair, thick beard, blue jacket, hands positioned as if scheming, white outline, sticker design, dark background.\"',\n",
       " '023.png': '\"Caricature style, man with afro hairstyle, mustache and beard, cross-armed pose, wearing a maroon jacket, serious expression, sticker illustration, artist or musician theme\"',\n",
       " '037.png': '\"Character, man, suit, red suit, pointing, smiling, brown hair, cartoon style, sticker, brown eyes, white shirt.\"',\n",
       " '036.png': '\"Character with gray hair and mustache, holding an open book, wearing a yellow-brown jacket, expressive eyes, cartoon style, white background, sticker image.\"',\n",
       " '022.png': '\"Character portrait, woman, serious expression, short brown hair, medieval armor, brown leather glove, confident pose, pointing up.\"',\n",
       " '008.png': 'Person, celebratory pose, yellow jacket, black hair, mustache, cartoon style sticker, fist raised, eyes closed.',\n",
       " '034.png': '\"Caricature style, historical figure, classic attire, pointy beard, long hair, green doublet, parchment collar, pointing gesture, friendly expression, cartoonish portrait.\"',\n",
       " '020.png': '\"Historical figure, thumbs down gesture, stern expression, laurel wreath, Roman attire, gold armor, brown and red colors, detailed illustration.\"',\n",
       " '021.png': '\"Cartoon style, man with mustache, holding a glass of drink, formal attire, serious expression, detailed illustration, historical figure look, classic theme, distinguished appearance.\"',\n",
       " '035.png': '\"Facepalm gesture, man in a suit, mustache, short hair, stressed expression, frustration, electricity effect on hand, vector illustration, cartoon style, black and white color scheme with blue accents.\"',\n",
       " '009.png': '\"Historical figure, cartoon style, laurel wreath, thumb up gesture, Roman attire, warrior armor, serious expression, detailed illustration, white background.\"',\n",
       " '031.png': 'Cartoon style, bearded man, suit and tie, serious expression, formal attire, hand gesture.',\n",
       " '025.png': '\"Cartoon style, man with long hair, wearing glasses, wearing a suit, peace sign gesture, serious expression, detailed sticker, reflective glasses.\"',\n",
       " '019.png': '\"Character, woman, making heart shape with hands, smiling, wearing white shirt, brown hair, cartoon style, expressive eyes, geometric earrings\"',\n",
       " '018.png': '\"Cartoon style, person laughing, striped suit, pointing finger, wiping tear, expressive emotion, lighthearted humor.\"',\n",
       " '024.png': '\"Cartoon style, man in suit, horror theme, tears made of blood, grotesque, intense expression, dark color palette, sticker design, torn clothing.\"',\n",
       " '030.png': '\"Male character, crossed arms, serious expression, dark circles under eyes, brown hair, 19th-century clothing, mustache, sideburns, cartoon style, detailed illustration, sticker, dark and moody color palette.\"',\n",
       " '026.png': '\"Cartoon style, male character, holding book, confused expression, green question mark with snake-like texture, colorful design, isolated image.\"',\n",
       " '032.png': '\"Man with glasses, thinking pose, hand on chin, wearing a suit, serious expression, cartoon style, isolated image.\"',\n",
       " '033.png': '\"Cartoon style, male character, surprised expression, concerned gesture, dark hair, mustache, yellow shirt, red collar, two rings on hand.\"',\n",
       " '027.png': '\"Character of a man, adjusting tie, formal attire, serious expression, stylized art, sticker, brown hair, suit and tie.\"'}"
      ]
     },
     "execution_count": 24,
     "metadata": {},
     "output_type": "execute_result"
    }
   ],
   "source": [
    "labels"
   ]
  },
  {
   "cell_type": "code",
   "execution_count": 26,
   "metadata": {},
   "outputs": [
    {
     "data": {
      "text/plain": [
       "54"
      ]
     },
     "execution_count": 26,
     "metadata": {},
     "output_type": "execute_result"
    }
   ],
   "source": [
    "len(labels)"
   ]
  },
  {
   "cell_type": "code",
   "execution_count": 25,
   "metadata": {},
   "outputs": [],
   "source": [
    "import pandas as pd\n",
    "\n",
    "# metadata.csv file name is required to upload to hugging face as image dataset\n",
    "cleaned_metadata = {k: v.replace('\"', '') if isinstance(v, str) else v for k, v in labels.items()}\n",
    "df = pd.DataFrame(list(cleaned_metadata.items()), columns=[\"file_name\", \"text\"])\n",
    "df.to_csv(os.path.join(IMAGE_DIR, \"metadata.csv\"), index=False)"
   ]
  },
  {
   "cell_type": "code",
   "execution_count": 3,
   "metadata": {},
   "outputs": [
    {
     "name": "stderr",
     "output_type": "stream",
     "text": [
      "/Users/andy/miniconda3/envs/ddiff/lib/python3.9/site-packages/tqdm/auto.py:21: TqdmWarning: IProgress not found. Please update jupyter and ipywidgets. See https://ipywidgets.readthedocs.io/en/stable/user_install.html\n",
      "  from .autonotebook import tqdm as notebook_tqdm\n",
      "Downloading data: 100%|██████████| 56/56 [00:00<00:00, 252288.96files/s]\n",
      "Generating train split: 54 examples [00:00, 64.73 examples/s]\n"
     ]
    }
   ],
   "source": [
    "from datasets import load_dataset\n",
    "dataset = load_dataset(\"imagefolder\", data_dir=IMAGE_DIR, split=\"train\")"
   ]
  },
  {
   "cell_type": "code",
   "execution_count": 4,
   "metadata": {},
   "outputs": [
    {
     "name": "stderr",
     "output_type": "stream",
     "text": [
      "Map: 100%|██████████| 54/54 [00:00<00:00, 1164.04 examples/s]?it/s]\n",
      "Creating parquet from Arrow format: 100%|██████████| 1/1 [00:00<00:00, 28.75ba/s]\n",
      "Uploading the dataset shards: 100%|██████████| 1/1 [00:02<00:00,  2.35s/it]\n"
     ]
    },
    {
     "data": {
      "text/plain": [
       "CommitInfo(commit_url='https://huggingface.co/datasets/STUDs/DiscordDiffusion/commit/24701e5049e2c3274525fb03b1507606ce7ede73', commit_message='Upload dataset', commit_description='', oid='24701e5049e2c3274525fb03b1507606ce7ede73', pr_url=None, pr_revision=None, pr_num=None)"
      ]
     },
     "execution_count": 4,
     "metadata": {},
     "output_type": "execute_result"
    }
   ],
   "source": [
    "dataset.push_to_hub(\"STUDs/DiscordDiffusion\") # upload to huggingface"
   ]
  },
  {
   "cell_type": "code",
   "execution_count": 5,
   "metadata": {},
   "outputs": [
    {
     "name": "stderr",
     "output_type": "stream",
     "text": [
      "Downloading readme: 100%|██████████| 312/312 [00:00<00:00, 1.28MB/s]\n",
      "Downloading data: 100%|██████████| 12.5M/12.5M [00:02<00:00, 5.71MB/s]\n",
      "Generating train split: 100%|██████████| 54/54 [00:00<00:00, 1278.08 examples/s]\n"
     ]
    }
   ],
   "source": [
    "# test to see if data is on huggingface\n",
    "dataset = load_dataset(\"STUDs/DiscordDiffusion\", split=\"train\")"
   ]
  },
  {
   "cell_type": "code",
   "execution_count": 6,
   "metadata": {},
   "outputs": [
    {
     "data": {
      "text/plain": [
       "Dataset({\n",
       "    features: ['image', 'text'],\n",
       "    num_rows: 54\n",
       "})"
      ]
     },
     "execution_count": 6,
     "metadata": {},
     "output_type": "execute_result"
    }
   ],
   "source": [
    "dataset # success!"
   ]
  },
  {
   "cell_type": "code",
   "execution_count": null,
   "metadata": {},
   "outputs": [],
   "source": []
  }
 ],
 "metadata": {
  "kernelspec": {
   "display_name": "ddiff",
   "language": "python",
   "name": "python3"
  },
  "language_info": {
   "codemirror_mode": {
    "name": "ipython",
    "version": 3
   },
   "file_extension": ".py",
   "mimetype": "text/x-python",
   "name": "python",
   "nbconvert_exporter": "python",
   "pygments_lexer": "ipython3",
   "version": "3.9.19"
  }
 },
 "nbformat": 4,
 "nbformat_minor": 2
}
